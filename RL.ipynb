{
 "cells": [
  {
   "cell_type": "code",
   "execution_count": 3,
   "metadata": {},
   "outputs": [
    {
     "name": "stderr",
     "output_type": "stream",
     "text": [
      "2023-01-26 13:07:39.300735: I tensorflow/core/platform/cpu_feature_guard.cc:193] This TensorFlow binary is optimized with oneAPI Deep Neural Network Library (oneDNN) to use the following CPU instructions in performance-critical operations:  SSE3 SSE4.1 SSE4.2 AVX AVX2 AVX512F AVX512_VNNI FMA\n",
      "To enable them in other operations, rebuild TensorFlow with the appropriate compiler flags.\n"
     ]
    },
    {
     "ename": "ImportError",
     "evalue": "Traceback (most recent call last):\n  File \"/home/m3rg2000/anaconda3/envs/ap/lib/python3.9/site-packages/tensorflow/python/pywrap_tensorflow.py\", line 62, in <module>\n    from tensorflow.python._pywrap_tensorflow_internal import *\nImportError: libnccl.so.2: cannot open shared object file: No such file or directory\n\n\nFailed to load the native TensorFlow runtime.\nSee https://www.tensorflow.org/install/errors for some common causes and solutions.\nIf you need help, create an issue at https://github.com/tensorflow/tensorflow/issues and include the entire stack trace above this error message.",
     "output_type": "error",
     "traceback": [
      "\u001b[0;31m---------------------------------------------------------------------------\u001b[0m",
      "\u001b[0;31mImportError\u001b[0m                               Traceback (most recent call last)",
      "File \u001b[0;32m~/anaconda3/envs/ap/lib/python3.9/site-packages/tensorflow/python/pywrap_tensorflow.py:62\u001b[0m\n\u001b[1;32m     61\u001b[0m \u001b[39mtry\u001b[39;00m:\n\u001b[0;32m---> 62\u001b[0m   \u001b[39mfrom\u001b[39;00m \u001b[39mtensorflow\u001b[39;00m\u001b[39m.\u001b[39;00m\u001b[39mpython\u001b[39;00m\u001b[39m.\u001b[39;00m\u001b[39m_pywrap_tensorflow_internal\u001b[39;00m \u001b[39mimport\u001b[39;00m \u001b[39m*\u001b[39m\n\u001b[1;32m     63\u001b[0m \u001b[39m# This try catch logic is because there is no bazel equivalent for py_extension.\u001b[39;00m\n\u001b[1;32m     64\u001b[0m \u001b[39m# Externally in opensource we must enable exceptions to load the shared object\u001b[39;00m\n\u001b[1;32m     65\u001b[0m \u001b[39m# by exposing the PyInit symbols with pybind. This error will only be\u001b[39;00m\n\u001b[1;32m     66\u001b[0m \u001b[39m# caught internally or if someone changes the name of the target _pywrap_tensorflow_internal.\u001b[39;00m\n\u001b[1;32m     67\u001b[0m \n\u001b[1;32m     68\u001b[0m \u001b[39m# This logic is used in other internal projects using py_extension.\u001b[39;00m\n",
      "\u001b[0;31mImportError\u001b[0m: libnccl.so.2: cannot open shared object file: No such file or directory",
      "\nDuring handling of the above exception, another exception occurred:\n",
      "\u001b[0;31mImportError\u001b[0m                               Traceback (most recent call last)",
      "Cell \u001b[0;32mIn[3], line 4\u001b[0m\n\u001b[1;32m      2\u001b[0m \u001b[39mimport\u001b[39;00m \u001b[39mrandom\u001b[39;00m\n\u001b[1;32m      3\u001b[0m \u001b[39mimport\u001b[39;00m \u001b[39mnumpy\u001b[39;00m \u001b[39mas\u001b[39;00m \u001b[39mnp\u001b[39;00m\n\u001b[0;32m----> 4\u001b[0m \u001b[39mimport\u001b[39;00m \u001b[39mtensorflow\u001b[39;00m \u001b[39mas\u001b[39;00m \u001b[39mtf\u001b[39;00m\n\u001b[1;32m      5\u001b[0m \u001b[39mfrom\u001b[39;00m \u001b[39mtensorflow\u001b[39;00m \u001b[39mimport\u001b[39;00m keras\n\u001b[1;32m      7\u001b[0m \u001b[39mclass\u001b[39;00m \u001b[39mFunctionEnv\u001b[39;00m(gym\u001b[39m.\u001b[39mEnv):\n",
      "File \u001b[0;32m~/anaconda3/envs/ap/lib/python3.9/site-packages/tensorflow/__init__.py:37\u001b[0m\n\u001b[1;32m     34\u001b[0m \u001b[39mimport\u001b[39;00m \u001b[39msys\u001b[39;00m \u001b[39mas\u001b[39;00m \u001b[39m_sys\u001b[39;00m\n\u001b[1;32m     35\u001b[0m \u001b[39mimport\u001b[39;00m \u001b[39mtyping\u001b[39;00m \u001b[39mas\u001b[39;00m \u001b[39m_typing\u001b[39;00m\n\u001b[0;32m---> 37\u001b[0m \u001b[39mfrom\u001b[39;00m \u001b[39mtensorflow\u001b[39;00m\u001b[39m.\u001b[39;00m\u001b[39mpython\u001b[39;00m\u001b[39m.\u001b[39;00m\u001b[39mtools\u001b[39;00m \u001b[39mimport\u001b[39;00m module_util \u001b[39mas\u001b[39;00m _module_util\n\u001b[1;32m     38\u001b[0m \u001b[39mfrom\u001b[39;00m \u001b[39mtensorflow\u001b[39;00m\u001b[39m.\u001b[39;00m\u001b[39mpython\u001b[39;00m\u001b[39m.\u001b[39;00m\u001b[39mutil\u001b[39;00m\u001b[39m.\u001b[39;00m\u001b[39mlazy_loader\u001b[39;00m \u001b[39mimport\u001b[39;00m LazyLoader \u001b[39mas\u001b[39;00m _LazyLoader\n\u001b[1;32m     40\u001b[0m \u001b[39m# Make sure code inside the TensorFlow codebase can use tf2.enabled() at import.\u001b[39;00m\n",
      "File \u001b[0;32m~/anaconda3/envs/ap/lib/python3.9/site-packages/tensorflow/python/__init__.py:36\u001b[0m\n\u001b[1;32m     27\u001b[0m \u001b[39mimport\u001b[39;00m \u001b[39mtraceback\u001b[39;00m\n\u001b[1;32m     29\u001b[0m \u001b[39m# We aim to keep this file minimal and ideally remove completely.\u001b[39;00m\n\u001b[1;32m     30\u001b[0m \u001b[39m# If you are adding a new file with @tf_export decorators,\u001b[39;00m\n\u001b[1;32m     31\u001b[0m \u001b[39m# import it in modules_with_exports.py instead.\u001b[39;00m\n\u001b[1;32m     32\u001b[0m \n\u001b[1;32m     33\u001b[0m \u001b[39m# go/tf-wildcard-import\u001b[39;00m\n\u001b[1;32m     34\u001b[0m \u001b[39m# pylint: disable=wildcard-import,g-bad-import-order,g-import-not-at-top\u001b[39;00m\n\u001b[0;32m---> 36\u001b[0m \u001b[39mfrom\u001b[39;00m \u001b[39mtensorflow\u001b[39;00m\u001b[39m.\u001b[39;00m\u001b[39mpython\u001b[39;00m \u001b[39mimport\u001b[39;00m pywrap_tensorflow \u001b[39mas\u001b[39;00m _pywrap_tensorflow\n\u001b[1;32m     37\u001b[0m \u001b[39mfrom\u001b[39;00m \u001b[39mtensorflow\u001b[39;00m\u001b[39m.\u001b[39;00m\u001b[39mpython\u001b[39;00m\u001b[39m.\u001b[39;00m\u001b[39meager\u001b[39;00m \u001b[39mimport\u001b[39;00m context\n\u001b[1;32m     39\u001b[0m \u001b[39m# pylint: enable=wildcard-import\u001b[39;00m\n\u001b[1;32m     40\u001b[0m \n\u001b[1;32m     41\u001b[0m \u001b[39m# Bring in subpackages.\u001b[39;00m\n",
      "File \u001b[0;32m~/anaconda3/envs/ap/lib/python3.9/site-packages/tensorflow/python/pywrap_tensorflow.py:77\u001b[0m\n\u001b[1;32m     75\u001b[0m     sys\u001b[39m.\u001b[39msetdlopenflags(_default_dlopen_flags)\n\u001b[1;32m     76\u001b[0m \u001b[39mexcept\u001b[39;00m \u001b[39mImportError\u001b[39;00m:\n\u001b[0;32m---> 77\u001b[0m   \u001b[39mraise\u001b[39;00m \u001b[39mImportError\u001b[39;00m(\n\u001b[1;32m     78\u001b[0m       \u001b[39mf\u001b[39m\u001b[39m'\u001b[39m\u001b[39m{\u001b[39;00mtraceback\u001b[39m.\u001b[39mformat_exc()\u001b[39m}\u001b[39;00m\u001b[39m'\u001b[39m\n\u001b[1;32m     79\u001b[0m       \u001b[39mf\u001b[39m\u001b[39m'\u001b[39m\u001b[39m\\n\u001b[39;00m\u001b[39m\\n\u001b[39;00m\u001b[39mFailed to load the native TensorFlow runtime.\u001b[39m\u001b[39m\\n\u001b[39;00m\u001b[39m'\u001b[39m\n\u001b[1;32m     80\u001b[0m       \u001b[39mf\u001b[39m\u001b[39m'\u001b[39m\u001b[39mSee https://www.tensorflow.org/install/errors \u001b[39m\u001b[39m'\u001b[39m\n\u001b[1;32m     81\u001b[0m       \u001b[39mf\u001b[39m\u001b[39m'\u001b[39m\u001b[39mfor some common causes and solutions.\u001b[39m\u001b[39m\\n\u001b[39;00m\u001b[39m'\u001b[39m\n\u001b[1;32m     82\u001b[0m       \u001b[39mf\u001b[39m\u001b[39m'\u001b[39m\u001b[39mIf you need help, create an issue \u001b[39m\u001b[39m'\u001b[39m\n\u001b[1;32m     83\u001b[0m       \u001b[39mf\u001b[39m\u001b[39m'\u001b[39m\u001b[39mat https://github.com/tensorflow/tensorflow/issues \u001b[39m\u001b[39m'\u001b[39m\n\u001b[1;32m     84\u001b[0m       \u001b[39mf\u001b[39m\u001b[39m'\u001b[39m\u001b[39mand include the entire stack trace above this error message.\u001b[39m\u001b[39m'\u001b[39m)\n\u001b[1;32m     86\u001b[0m \u001b[39m# pylint: enable=wildcard-import,g-import-not-at-top,unused-import,line-too-long\u001b[39;00m\n",
      "\u001b[0;31mImportError\u001b[0m: Traceback (most recent call last):\n  File \"/home/m3rg2000/anaconda3/envs/ap/lib/python3.9/site-packages/tensorflow/python/pywrap_tensorflow.py\", line 62, in <module>\n    from tensorflow.python._pywrap_tensorflow_internal import *\nImportError: libnccl.so.2: cannot open shared object file: No such file or directory\n\n\nFailed to load the native TensorFlow runtime.\nSee https://www.tensorflow.org/install/errors for some common causes and solutions.\nIf you need help, create an issue at https://github.com/tensorflow/tensorflow/issues and include the entire stack trace above this error message."
     ]
    }
   ],
   "source": [
    "import gym\n",
    "import random\n",
    "import numpy as np\n",
    "import tensorflow as tf\n",
    "from tensorflow import keras\n",
    "\n",
    "class FunctionEnv(gym.Env):\n",
    "    def __init__(self):\n",
    "        self.x = random.uniform(-10, 10)\n",
    "        \n",
    "    def step(self, action):\n",
    "        self.x += action\n",
    "        y = (2*self.x**2 + 5)**2\n",
    "        done = False\n",
    "        if y <= 0.1:\n",
    "            done = True\n",
    "        return self.x, y, done, {}\n",
    "    \n",
    "    def reset(self):\n",
    "        self.x = random.uniform(-10, 10)\n",
    "        return self.x\n",
    "    \n",
    "    def render(self):\n",
    "        print(self.x)\n",
    "\n",
    "# Define the RL agent\n",
    "class Agent:\n",
    "    def __init__(self, env):\n",
    "        self.state_size = 1\n",
    "        self.action_size = 1\n",
    "        self.learning_rate = 0.01\n",
    "        self.model = keras.Sequential([\n",
    "            keras.layers.Dense(32, input_shape=(self.state_size,), activation='relu'),\n",
    "            keras.layers.Dense(32, activation='relu'),\n",
    "            keras.layers.Dense(self.action_size, activation='linear')\n",
    "        ])\n",
    "        self.model.compile(loss='mse', optimizer=keras.optimizers.Adam(lr=self.learning_rate))\n",
    "    \n",
    "    def act(self, state):\n",
    "        return self.model.predict(state)\n",
    "\n",
    "    def replay(self, memory, batch_size):\n",
    "        mini_batch = random.sample(memory, batch_size)\n",
    "        for state, action, reward, next_state, done in mini_batch:\n",
    "            target = reward\n",
    "            if not done:\n",
    "                target = reward + 0.95 * np.amax(self.model.predict(next_state)[0])\n",
    "            target_f = self.model.predict(state)\n",
    "            target_f[0][action] = target\n",
    "            self.model.fit(state, target_f, epochs=1, verbose=0)\n",
    "\n",
    "# Train the agent\n",
    "env = FunctionEnv()\n",
    "agent = Agent(env)\n",
    "num_episodes = 1000\n",
    "memory = []\n",
    "\n",
    "for episode in range(num_episodes):\n",
    "    state = env.reset()\n",
    "    state = np.reshape(state, [1, 1])\n",
    "    for time in range(1000):\n",
    "        action = agent.act(state)\n",
    "        next_state, reward, done, _ = env.step(action)\n",
    "        next_state = np.reshape(next_state, [1, 1])\n",
    "        memory.append((state, action, reward, next_state, done))\n",
    "        if done:\n",
    "            print(\"Episode: {}/{}, x: {}, y: {}, Time: {}\".format(episode, num_episodes, state, reward,done))\n"
   ]
  },
  {
   "cell_type": "code",
   "execution_count": 9,
   "metadata": {},
   "outputs": [
    {
     "name": "stdout",
     "output_type": "stream",
     "text": [
      "Minimum value found: -359.14942987900173\n"
     ]
    }
   ],
   "source": [
    "import gym\n",
    "import numpy as np\n",
    "\n",
    "# Define the function to minimize\n",
    "def function(x):\n",
    "    return (2*x + 5)**2\n",
    "\n",
    "# Define the environment\n",
    "class FunctionEnv(gym.Env):\n",
    "    metadata = {'render.modes': ['human']}\n",
    "    def __init__(self):\n",
    "        self.observation_space = gym.spaces.Box(low=-10, high=10, shape=(1,))\n",
    "        self.action_space = gym.spaces.Box(low=-1, high=1, shape=(1,))\n",
    "\n",
    "    def step(self, action):\n",
    "        x = self.state + action\n",
    "        y = function(x)\n",
    "        done = False\n",
    "        return x, -y, done, {}\n",
    "\n",
    "    def reset(self):\n",
    "        self.state = np.random.uniform(low=-10, high=10)\n",
    "        return self.state\n",
    "\n",
    "# Create the environment\n",
    "env = FunctionEnv()\n",
    "\n",
    "# Initialize the state\n",
    "state = env.reset()\n",
    "\n",
    "# Set the number of episodes\n",
    "num_episodes = 10\n",
    "\n",
    "# Define the Hill Climbing algorithm\n",
    "for episode in range(num_episodes):\n",
    "    # Take a random action\n",
    "    action = np.random.uniform(low=-1, high=1)\n",
    "    next_state, reward, done, _ = env.step(action)\n",
    "    # Check if the new state is better than the previous one\n",
    "    if reward > function(state):\n",
    "        state = next_state\n",
    "\n",
    "# Print the minimum value\n",
    "print(\"Minimum value found:\", -function(state))\n"
   ]
  },
  {
   "cell_type": "code",
   "execution_count": 10,
   "metadata": {},
   "outputs": [
    {
     "data": {
      "text/plain": [
       "6.975619107464716"
      ]
     },
     "execution_count": 10,
     "metadata": {},
     "output_type": "execute_result"
    }
   ],
   "source": [
    "state"
   ]
  },
  {
   "cell_type": "code",
   "execution_count": 17,
   "metadata": {},
   "outputs": [
    {
     "ename": "TypeError",
     "evalue": "'float' object cannot be interpreted as an integer",
     "output_type": "error",
     "traceback": [
      "\u001b[0;31m---------------------------------------------------------------------------\u001b[0m",
      "\u001b[0;31mTypeError\u001b[0m                                 Traceback (most recent call last)",
      "Cell \u001b[0;32mIn[17], line 42\u001b[0m\n\u001b[1;32m     39\u001b[0m episodes \u001b[39m=\u001b[39m \u001b[39m1e7\u001b[39m\n\u001b[1;32m     41\u001b[0m \u001b[39m# Train the agent\u001b[39;00m\n\u001b[0;32m---> 42\u001b[0m \u001b[39mfor\u001b[39;00m episode \u001b[39min\u001b[39;00m \u001b[39mrange\u001b[39;49m(episodes):\n\u001b[1;32m     43\u001b[0m     action \u001b[39m=\u001b[39m random\u001b[39m.\u001b[39mrandint(\u001b[39m0\u001b[39m,\u001b[39m1\u001b[39m)\n\u001b[1;32m     44\u001b[0m     x \u001b[39m=\u001b[39m agent\u001b[39m.\u001b[39mtake_action(action)\n",
      "\u001b[0;31mTypeError\u001b[0m: 'float' object cannot be interpreted as an integer"
     ]
    }
   ],
   "source": [
    "import random\n",
    "import numpy as np\n",
    "\n",
    "# Define the function to be minimized\n",
    "def f(x):\n",
    "    return (2*x - 5)**2\n",
    "\n",
    "# Define the derivative of the function\n",
    "def df(x):\n",
    "    return 4*x - 10\n",
    "\n",
    "# Set the initial value for x\n",
    "x = 10\n",
    "\n",
    "# Set the learning rate\n",
    "learning_rate = 0.1\n",
    "\n",
    "# define the Agent Class\n",
    "class Agent():\n",
    "    def __init__(self, x):\n",
    "        self.x = x\n",
    "        self.state = x\n",
    "        \n",
    "    def take_action(self, action):\n",
    "        if action == 1:\n",
    "            self.x += learning_rate\n",
    "        else:\n",
    "            self.x -= learning_rate\n",
    "        self.state = self.x\n",
    "        return self.x\n",
    "    \n",
    "    def get_reward(self):\n",
    "        return -f(self.x)\n",
    "\n",
    "# create an instance of the agent\n",
    "agent = Agent(x)\n",
    "\n",
    "# Set the number of episodes\n",
    "episodes = int(1e7)\n",
    "\n",
    "# Train the agent\n",
    "for episode in range(episodes):\n",
    "    action = random.randint(0,1)\n",
    "    x = agent.take_action(action)\n",
    "    reward = agent.get_reward()\n",
    "    print(f\"Episode: {episode+1}, x: {x}, Reward: {reward}\")\n",
    "\n"
   ]
  },
  {
   "cell_type": "code",
   "execution_count": null,
   "metadata": {},
   "outputs": [],
   "source": []
  }
 ],
 "metadata": {
  "kernelspec": {
   "display_name": "ap",
   "language": "python",
   "name": "python3"
  },
  "language_info": {
   "codemirror_mode": {
    "name": "ipython",
    "version": 3
   },
   "file_extension": ".py",
   "mimetype": "text/x-python",
   "name": "python",
   "nbconvert_exporter": "python",
   "pygments_lexer": "ipython3",
   "version": "3.9.15"
  },
  "orig_nbformat": 4,
  "vscode": {
   "interpreter": {
    "hash": "7fa2ed8e8ee7173a05202e5daba96d7f457997bf848b47110e51c7b6f0a2fe84"
   }
  }
 },
 "nbformat": 4,
 "nbformat_minor": 2
}
